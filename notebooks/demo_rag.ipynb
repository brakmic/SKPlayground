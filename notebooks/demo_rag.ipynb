{
 "cells": [
  {
   "cell_type": "code",
   "execution_count": null,
   "metadata": {
    "dotnet_interactive": {
     "language": "csharp"
    },
    "polyglot_notebook": {
     "kernelName": "csharp"
    },
    "vscode": {
     "languageId": "polyglot-notebook"
    }
   },
   "outputs": [],
   "source": [
    "#r \"nuget: Microsoft.Extensions.Configuration.Json,7.0.0\"\n",
    "#r \"nuget: Microsoft.Extensions.Configuration.UserSecrets,7.0.0\"\n",
    "#r \"nuget: Microsoft.Extensions.Logging.Console,7.0.0\"\n",
    "#r \"nuget: Microsoft.Extensions.Logging.Debug,7.0.0\"\n",
    "#r \"nuget: Microsoft.SemanticKernel,1.0.0-beta1\"\n",
    "#r \"nuget: Microsoft.SemanticKernel.Core, 1.0.0-beta1\"\n",
    "#r \"nuget: Microsoft.SemanticKernel.Abstractions, 1.0.0-beta1\"\n",
    "#r \"nuget: Microsoft.SemanticKernel.Connectors.AI.OpenAI, 1.0.0-beta1\"\n",
    "#r \"nuget: Microsoft.SemanticKernel.Connectors.AI.HuggingFace, 1.0.0-beta1\"\n",
    "#r \"nuget: Microsoft.SemanticKernel.Connectors.Memory.Postgres, 1.0.0-beta1\"\n",
    "#r \"nuget: Microsoft.SemanticKernel.Connectors.Memory.Sqlite, 1.0.0-beta1\"\n",
    "#r \"nuget: Microsoft.SemanticKernel.Connectors.Memory.Weaviate, 1.0.0-beta1\"\n",
    "#r \"nuget: Microsoft.SemanticKernel.Connectors.Memory.Qdrant, 1.0.0-beta1\"\n",
    "#r \"nuget: Microsoft.SemanticKernel.Functions.Grpc, 1.0.0-beta1\"\n",
    "#r \"nuget: Microsoft.SemanticKernel.Functions.OpenAPI, 1.0.0-beta1\"\n",
    "#r \"nuget: Microsoft.SemanticKernel.Functions.Semantic, 1.0.0-beta1\"\n",
    "#r \"nuget: Microsoft.SemanticKernel.Plugins.Core, 1.0.0-beta1\"\n",
    "#r \"nuget: Microsoft.SemanticKernel.Plugins.Memory, 1.0.0-beta1\"\n",
    "#r \"nuget: Microsoft.SemanticKernel.Plugins.Document, 1.0.0-beta1\"\n",
    "#r \"nuget: Microsoft.SemanticKernel.Planners.Core, 1.0.0-beta1\"\n",
    "#r \"nuget: Microsoft.SemanticKernel.Plugins.Web, 1.0.0-beta1\"\n",
    "#r \"nuget: Microsoft.SemanticKernel.TemplateEngine.Basic, 1.0.0-beta1\"\n",
    "#r \"nuget: System.CommandLine,2.0.0-beta4.22272.1\"\n",
    "#r \"nuget: YamlDotNet,13.5.2\""
   ]
  },
  {
   "cell_type": "code",
   "execution_count": null,
   "metadata": {
    "dotnet_interactive": {
     "language": "csharp"
    },
    "polyglot_notebook": {
     "kernelName": "csharp"
    },
    "vscode": {
     "languageId": "polyglot-notebook"
    }
   },
   "outputs": [],
   "source": [
    "using System;\n",
    "using System.IO;\n",
    "using System.CommandLine;\n",
    "using System.Collections.Immutable;\n",
    "using System.Text.RegularExpressions;\n",
    "using Microsoft.Extensions.Configuration;\n",
    "using Microsoft.Extensions.Logging;\n",
    "using Microsoft.SemanticKernel;\n",
    "using Microsoft.SemanticKernel.AI.TextCompletion;\n",
    "using Microsoft.SemanticKernel.Connectors.AI.OpenAI.TextEmbedding;\n",
    "using Microsoft.SemanticKernel.Connectors.Memory.Weaviate;\n",
    "using Microsoft.SemanticKernel.Connectors.Memory.Qdrant;\n",
    "using Microsoft.SemanticKernel.Connectors.Memory.Postgres;\n",
    "using Microsoft.SemanticKernel.Connectors.Memory.Sqlite;\n",
    "using Microsoft.SemanticKernel.Events;\n",
    "using Microsoft.SemanticKernel.Functions.OpenAPI;\n",
    "using Microsoft.SemanticKernel.Memory;\n",
    "using Microsoft.SemanticKernel.Orchestration;\n",
    "using Microsoft.SemanticKernel.Planning;\n",
    "using Microsoft.SemanticKernel.Plugins.Core;\n",
    "using Microsoft.SemanticKernel.Plugins.Memory;\n",
    "using Microsoft.SemanticKernel.SemanticFunctions;\n",
    "using Microsoft.SemanticKernel.TemplateEngine.Basic;"
   ]
  },
  {
   "cell_type": "code",
   "execution_count": 14,
   "metadata": {
    "dotnet_interactive": {
     "language": "csharp"
    },
    "polyglot_notebook": {
     "kernelName": "csharp"
    },
    "vscode": {
     "languageId": "polyglot-notebook"
    }
   },
   "outputs": [],
   "source": [
    "var notebookDir = Environment.CurrentDirectory;\n",
    "var parentDir = Directory.GetParent(notebookDir).FullName;\n",
    "\n",
    "var builder = new ConfigurationBuilder()\n",
    "    .SetBasePath(parentDir)  // Set the base path\n",
    "    .AddJsonFile(\"config/appsettings.json\", optional: false, reloadOnChange: true)  // Load the main appsettings.json file\n",
    "    .AddJsonFile(\"appsettings.plugins.json\", optional: true, reloadOnChange: true);  // Load the environment-specific appsettings file\n",
    "\n",
    "var conf = builder.Build();\n",
    "\n",
    "ILoggerFactory loggerFactory = LoggerFactory.Create(builder =>\n",
    "{\n",
    "  builder.SetMinimumLevel(LogLevel.Warning)\n",
    "          .AddConsole()\n",
    "          .AddDebug();\n",
    "});\n",
    "\n",
    "var serviceId = conf.GetValue<string>(\"serviceId\");\n",
    "var endpointType = conf.GetValue<string>(\"endpointType\");\n",
    "var serviceType = conf.GetValue<string>(\"serviceType\");\n",
    "var deploymentOrModelId = conf.GetValue<string>(\"deploymentOrModelId\");\n",
    "var apiKey = conf.GetValue<string>(\"apiKey\");\n",
    "var orgId = conf.GetValue<string>(\"orgId\");\n",
    "\n",
    "// Taken from: https://github.com/microsoft/semantic-kernel/blob/main/dotnet/samples/KernelSyntaxExamples/Example42_KernelBuilder.cs\n",
    "//\n",
    "// Kernel.Builder returns a new builder instance, in case you want to configure the builder differently.\n",
    "// ==========================================================================================================\n",
    "// Kernel instances can be created the usual way with \"new\", though the process requires particular\n",
    "// attention to how dependencies are wired together. Although the building blocks are available\n",
    "// to enable custom configurations, we highly recommend using KernelBuilder instead, to ensure\n",
    "// a correct dependency injection.\n",
    "// ----------------------------------------------------------------------------------------------------------\n",
    "IKernel kernel = Kernel.Builder\n",
    "                     .WithLoggerFactory(loggerFactory)\n",
    "                     .WithOpenAITextCompletionService(\n",
    "                            modelId: deploymentOrModelId,\n",
    "                            apiKey: apiKey,\n",
    "                            orgId: orgId,\n",
    "                            serviceId: serviceId)\n",
    "                    .Build();\n",
    "\n",
    "// var memoryStore = new QdrantMemoryStore(\"http://localhost:6333\", 1536, loggerFactory: loggerFactory);\n",
    "var memoryStore = await SqliteMemoryStore.ConnectAsync(\"aboutme.sqlite\");\n",
    "\n",
    "// Create an embedding generator to use for semantic memory.\n",
    "var embeddingGenerator = new OpenAITextEmbeddingGeneration(modelId: \"text-embedding-ada-002\", apiKey: apiKey,\n",
    "                                                                organization: orgId,\n",
    "                                                                loggerFactory: loggerFactory);\n"
   ]
  },
  {
   "cell_type": "code",
   "execution_count": 15,
   "metadata": {
    "dotnet_interactive": {
     "language": "csharp"
    },
    "polyglot_notebook": {
     "kernelName": "csharp"
    },
    "vscode": {
     "languageId": "polyglot-notebook"
    }
   },
   "outputs": [],
   "source": [
    "var rootDirectory = conf.GetSection(\"PluginSettings:Root\").Get<string>();\n",
    "var pluginDirectories = conf.GetSection(\"PluginSettings:Plugins\").Get<string[]>();\n",
    "\n",
    "var pluginsRoot = Path.Combine(parentDir, rootDirectory!);\n",
    "var pluginImport = kernel.ImportSemanticFunctionsFromDirectory(pluginsRoot, pluginDirectories!);"
   ]
  },
  {
   "cell_type": "code",
   "execution_count": 16,
   "metadata": {
    "dotnet_interactive": {
     "language": "csharp"
    },
    "polyglot_notebook": {
     "kernelName": "csharp"
    },
    "vscode": {
     "languageId": "polyglot-notebook"
    }
   },
   "outputs": [
    {
     "name": "stdout",
     "output_type": "stream",
     "text": [
      "+---------------+----------------------------------------------------+\n",
      "|Plugin         |Description                                         |\n",
      "+---------------+----------------------------------------------------+\n",
      "|Helm           |Create Helm Charts for given devops task            |\n",
      "|Kubernetes     |Create kubernetes YAML files for given devops task  |\n",
      "|CSharp         |Create .NET projects for given task                 |\n",
      "|TypeScript     |Create TypeScript source codes for given task       |\n",
      "|CreateHtmlDoc  |Create HTML documents                               |\n",
      "|ExtractJS      |Extract JavaScript from an HTML document            |\n",
      "|UrlFinder      |Find the URL of a web page                          |\n",
      "|Chat           |Answer user questions                               |\n",
      "+---------------+----------------------------------------------------+\n"
     ]
    }
   ],
   "source": [
    "int nameMaxLength = pluginImport.Max(p => p.Value.Name.Length) + 2;  // +2 for padding\n",
    "int descMaxLength = pluginImport.Max(p => p.Value.Description.Length) + 2;\n",
    "\n",
    "// Header\n",
    "Console.WriteLine($\"+{new string('-', nameMaxLength)}+{new string('-', descMaxLength)}+\");\n",
    "Console.WriteLine($\"|{\"Plugin\".PadRight(nameMaxLength)}|{\"Description\".PadRight(descMaxLength)}|\");\n",
    "Console.WriteLine($\"+{new string('-', nameMaxLength)}+{new string('-', descMaxLength)}+\");\n",
    "\n",
    "// Rows\n",
    "foreach (var p in pluginImport)\n",
    "{\n",
    "    Console.WriteLine($\"|{p.Value.Name.PadRight(nameMaxLength)}|{p.Value.Description.PadRight(descMaxLength)}|\");\n",
    "}\n",
    "\n",
    "// Footer\n",
    "Console.WriteLine($\"+{new string('-', nameMaxLength)}+{new string('-', descMaxLength)}+\");"
   ]
  },
  {
   "cell_type": "code",
   "execution_count": 17,
   "metadata": {
    "dotnet_interactive": {
     "language": "csharp"
    },
    "polyglot_notebook": {
     "kernelName": "csharp"
    },
    "vscode": {
     "languageId": "polyglot-notebook"
    }
   },
   "outputs": [],
   "source": [
    "\n",
    "// The combination of the text embedding generator and the memory store makes up the 'SemanticTextMemory' object used to\n",
    "// store and retrieve memories.\n",
    "var textMemory = new MemoryBuilder()\n",
    "            .WithLoggerFactory(loggerFactory)\n",
    "            .WithTextEmbeddingGeneration(embeddingGenerator)\n",
    "            .WithMemoryStore(memoryStore)\n",
    "            .Build();\n",
    "\n",
    "bool exists = await memoryStore.DoesCollectionExistAsync(\"aboutme\");\n",
    "\n",
    "if (!exists) {\n",
    "  await memoryStore.CreateCollectionAsync(\"aboutme\");\n",
    "}\n",
    "\n",
    "// Alternatively, one could use SemanticTextMemory instance instead\n",
    "//SemanticTextMemory textMemory = new(memoryStore, embeddingGenerator);"
   ]
  },
  {
   "cell_type": "code",
   "execution_count": 18,
   "metadata": {
    "dotnet_interactive": {
     "language": "csharp"
    },
    "polyglot_notebook": {
     "kernelName": "csharp"
    },
    "vscode": {
     "languageId": "polyglot-notebook"
    }
   },
   "outputs": [],
   "source": [
    "// Helper class for our facts\n",
    "public class Fact\n",
    "{\n",
    "  public string Text { get; }\n",
    "  public string Id { get; } = Guid.NewGuid().ToString();\n",
    "  public string Description { get; }\n",
    "  public string AdditionalMetadata { get; }\n",
    "\n",
    "  public Fact(string text, string description, string additionalMetadata)\n",
    "  {\n",
    "    Text = text;\n",
    "    Description = description;\n",
    "    AdditionalMetadata = additionalMetadata;\n",
    "  }\n",
    "}\n",
    "\n",
    "var facts = new Fact[]\n",
    "    {\n",
    "        new(\"I was born in Berlin.\", \"Place of birth\", \"City: Berlin\"),\n",
    "        new(\"I am 25 years old.\", \"Age\", \"Years: 25\"),\n",
    "        new(\"My favorite sports team is Lakers.\", \"Favorite sports team\", \"Team: Lakers\"),\n",
    "        new(\"I have 2 siblings.\", \"Siblings\", \"Number: 2\"),\n",
    "        new(\"I work as a developer.\", \"Occupation\", \"Job Title: Developer\"),\n",
    "        new(\"I enjoy hiking.\", \"Hobbies\", \"Activity: Hiking\"),\n",
    "        new(\"I have a pet dog.\", \"Pets\", \"Type: Dog\"),\n",
    "        new(\"My favorite cuisine is Italian.\", \"Favorite Cuisine\", \"Cuisine: Italian\"),\n",
    "        new(\"I have visited 5 countries.\", \"Travel\", \"Countries: 5\"),\n",
    "        new(\"I graduated from the University of London.\", \"Education\", \"University: London\"),\n",
    "        new(\"I speak 3 languages.\", \"Languages Spoken\", \"Number: 3\"),\n",
    "        new(\"I am allergic to peanuts.\", \"Allergies\", \"Allergen: Peanuts\"),\n",
    "        new(\"I have run a marathon.\", \"Athletic Achievements\", \"Event: Marathon\"),\n",
    "        new(\"I have a collection of vintage stamps.\", \"Collections\", \"Item: Stamps\"),\n",
    "        new(\"I prefer autumn over other seasons.\", \"Seasonal Preferences\", \"Season: Autumn\"),\n",
    "        new(\"My favorite book is 'To Kill a Mockingbird'.\", \"Favorite Book\", \"Book: To Kill a Mockingbird\"),\n",
    "        new(\"I am a vegetarian.\", \"Diet\", \"Diet: Vegetarian\"),\n",
    "        new(\"I have volunteered at a local shelter.\", \"Volunteering\", \"Place: Local Shelter\"),\n",
    "        new(\"I have a goal to visit every continent.\", \"Life Goals\", \"Goal: Visit Every Continent\"),\n",
    "        new(\"I play the guitar.\", \"Musical Instruments\", \"Instrument: Guitar\"),\n",
    "        new(\"I have a master's degree in Computer Science.\", \"Advanced Education\", \"Degree: Master's in Computer Science\")\n",
    "    };"
   ]
  },
  {
   "cell_type": "code",
   "execution_count": 19,
   "metadata": {
    "dotnet_interactive": {
     "language": "csharp"
    },
    "polyglot_notebook": {
     "kernelName": "csharp"
    },
    "vscode": {
     "languageId": "polyglot-notebook"
    }
   },
   "outputs": [],
   "source": [
    "var memoryPlugin = new TextMemoryPlugin(textMemory);\n",
    "var memoryFunctions = kernel.ImportFunctions(memoryPlugin, \"MemoryPlugin\");\n",
    "\n",
    "var collection = \"aboutme\";\n",
    "\n",
    "// use this to wipe memory\n",
    "// await memoryStore.DeleteCollectionAsync(collection);\n",
    "\n",
    "bool exists = await memoryStore.DoesCollectionExistAsync(collection);\n",
    "\n",
    "if (!exists)\n",
    "{\n",
    "  // there are two ways to populate the memory:\n",
    "  // * with Kernel + Plugins\n",
    "  var results = new List<KernelResult?>();\n",
    "  foreach (var fact in facts)\n",
    "  {\n",
    "    var result = await kernel.RunAsync(memoryFunctions[\"Save\"], new()\n",
    "    {\n",
    "      [TextMemoryPlugin.CollectionParam] = collection,\n",
    "      [TextMemoryPlugin.KeyParam] = fact.Id,\n",
    "      [\"input\"] = fact.Text\n",
    "    });\n",
    "    results.Add(result);\n",
    "  }\n",
    " \n",
    "  // * with SemanticTextMemory\n",
    "  // var ids = new List<string>();\n",
    "  // foreach (var fact in facts)\n",
    "  // {\n",
    "  //   var id = await memory.SaveInformationAsync(\n",
    "  //     collection: collection,\n",
    "  //     text: fact.Text,\n",
    "  //     id: fact.Id,\n",
    "  //     description: fact.Description,\n",
    "  //     additionalMetadata: fact.AdditionalMetadata);\n",
    "  //   ids.Add(id);\n",
    "  // }\n",
    "}"
   ]
  },
  {
   "cell_type": "code",
   "execution_count": 20,
   "metadata": {
    "dotnet_interactive": {
     "language": "csharp"
    },
    "polyglot_notebook": {
     "kernelName": "csharp"
    },
    "vscode": {
     "languageId": "polyglot-notebook"
    }
   },
   "outputs": [
    {
     "name": "stdout",
     "output_type": "stream",
     "text": [
      "I have a pet dog.\r\n"
     ]
    }
   ],
   "source": [
    "    // * There are three ways to query the memory\n",
    "\n",
    "    // * 1. By using TextMemory methods\n",
    "    // MemoryQueryResult? lookup = await textMemory.GetAsync(collection, \"INSERT_ID_HERE\");\n",
    "    IAsyncEnumerable<MemoryQueryResult> lookup = textMemory.SearchAsync(collection, \"Do I have pets?\", 1, minRelevanceScore: 0.50);\n",
    "\n",
    "    await foreach (var r in lookup)\n",
    "    {\n",
    "      Console.WriteLine(r.Metadata.Text ?? \"ERROR: memory not found\");\n",
    "    }"
   ]
  },
  {
   "cell_type": "code",
   "execution_count": 21,
   "metadata": {
    "dotnet_interactive": {
     "language": "csharp"
    },
    "polyglot_notebook": {
     "kernelName": "csharp"
    },
    "vscode": {
     "languageId": "polyglot-notebook"
    }
   },
   "outputs": [
    {
     "name": "stdout",
     "output_type": "stream",
     "text": [
      "Answer: I am 25 years old.\r\n"
     ]
    }
   ],
   "source": [
    "// * 2. By using Kernel + Plugins\n",
    "var result = await kernel.RunAsync(memoryFunctions[\"Recall\"], new()\n",
    "{\n",
    "  [TextMemoryPlugin.CollectionParam] = collection,\n",
    "  [TextMemoryPlugin.LimitParam] = \"1\",\n",
    "  [TextMemoryPlugin.RelevanceParam] = \"0.79\",\n",
    "  [\"input\"] = \"What is my age?\"\n",
    "});\n",
    "Console.WriteLine($\"Answer: {result.GetValue<string>()}\");"
   ]
  },
  {
   "cell_type": "code",
   "execution_count": 25,
   "metadata": {
    "dotnet_interactive": {
     "language": "csharp"
    },
    "polyglot_notebook": {
     "kernelName": "csharp"
    },
    "vscode": {
     "languageId": "polyglot-notebook"
    }
   },
   "outputs": [
    {
     "name": "stdout",
     "output_type": "stream",
     "text": [
      "\n",
      "You seem to really enjoy hiking, and it's a great way to stay active and explore the outdoors. It's also a great way to get some fresh air and clear your head.\r\n"
     ]
    }
   ],
   "source": [
    "// * 3. By using the RAG Pattern (Retrieval Augmented Generation)\n",
    "static async Task<string> RunMiniRAG(ISemanticTextMemory memory, IKernel kernel, string collectionName, string input)\n",
    "{\n",
    "  var context = kernel.CreateNewContext();\n",
    "  context.Variables.Add(\"user_input\", input);\n",
    "\n",
    "  // retrieve user-specific context based on the user input\n",
    "  var searchResults = memory.SearchAsync(collectionName, input);\n",
    "  var retrieved = new List<string>();\n",
    "  await foreach (var item in searchResults)\n",
    "  {\n",
    "    retrieved.Add(item.Metadata.Text);\n",
    "  }\n",
    "  context.Variables.Add(\"user_context\", string.Join(',', retrieved));\n",
    "\n",
    "  // run SK function and give it the two variables, input and context\n",
    "  var func = kernel.Functions.GetFunction(\"Assistant\", \"Chat\");\n",
    "  var answer = await kernel.RunAsync(func, context.Variables);\n",
    "\n",
    "  return answer.GetValue<string>()!;\n",
    "\n",
    "}\n",
    "\n",
    "var answer = await RunMiniRAG(textMemory, kernel, collection, \"Tell me something about my hobbies.\");\n",
    "Console.WriteLine(answer);"
   ]
  }
 ],
 "metadata": {
  "language_info": {
   "name": "python"
  },
  "orig_nbformat": 4
 },
 "nbformat": 4,
 "nbformat_minor": 2
}
