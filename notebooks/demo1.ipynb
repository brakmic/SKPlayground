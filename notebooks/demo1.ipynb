{
 "cells": [
  {
   "cell_type": "code",
   "execution_count": 1,
   "id": "d84f4a7b",
   "metadata": {},
   "outputs": [
    {
     "data": {
      "text/html": [
       "\r\n",
       "<div>\r\n",
       "    <div id='dotnet-interactive-this-cell-30800.Microsoft.DotNet.Interactive.Http.HttpPort' style='display: none'>\r\n",
       "        The below script needs to be able to find the current output cell; this is an easy method to get it.\r\n",
       "    </div>\r\n",
       "    <script type='text/javascript'>\r\n",
       "async function probeAddresses(probingAddresses) {\r\n",
       "    function timeout(ms, promise) {\r\n",
       "        return new Promise(function (resolve, reject) {\r\n",
       "            setTimeout(function () {\r\n",
       "                reject(new Error('timeout'))\r\n",
       "            }, ms)\r\n",
       "            promise.then(resolve, reject)\r\n",
       "        })\r\n",
       "    }\r\n",
       "\r\n",
       "    if (Array.isArray(probingAddresses)) {\r\n",
       "        for (let i = 0; i < probingAddresses.length; i++) {\r\n",
       "\r\n",
       "            let rootUrl = probingAddresses[i];\r\n",
       "\r\n",
       "            if (!rootUrl.endsWith('/')) {\r\n",
       "                rootUrl = `${rootUrl}/`;\r\n",
       "            }\r\n",
       "\r\n",
       "            try {\r\n",
       "                let response = await timeout(1000, fetch(`${rootUrl}discovery`, {\r\n",
       "                    method: 'POST',\r\n",
       "                    cache: 'no-cache',\r\n",
       "                    mode: 'cors',\r\n",
       "                    timeout: 1000,\r\n",
       "                    headers: {\r\n",
       "                        'Content-Type': 'text/plain'\r\n",
       "                    },\r\n",
       "                    body: probingAddresses[i]\r\n",
       "                }));\r\n",
       "\r\n",
       "                if (response.status == 200) {\r\n",
       "                    return rootUrl;\r\n",
       "                }\r\n",
       "            }\r\n",
       "            catch (e) { }\r\n",
       "        }\r\n",
       "    }\r\n",
       "}\r\n",
       "\r\n",
       "function loadDotnetInteractiveApi() {\r\n",
       "    probeAddresses([\"http://192.168.50.10:2048/\", \"http://192.168.56.1:2048/\", \"http://192.168.124.1:2048/\", \"http://192.168.174.1:2048/\", \"http://172.20.160.1:2048/\", \"http://172.27.144.1:2048/\", \"http://127.0.0.1:2048/\"])\r\n",
       "        .then((root) => {\r\n",
       "        // use probing to find host url and api resources\r\n",
       "        // load interactive helpers and language services\r\n",
       "        let dotnetInteractiveRequire = require.config({\r\n",
       "        context: '30800.Microsoft.DotNet.Interactive.Http.HttpPort',\r\n",
       "                paths:\r\n",
       "            {\r\n",
       "                'dotnet-interactive': `${root}resources`\r\n",
       "                }\r\n",
       "        }) || require;\r\n",
       "\r\n",
       "            window.dotnetInteractiveRequire = dotnetInteractiveRequire;\r\n",
       "\r\n",
       "            window.configureRequireFromExtension = function(extensionName, extensionCacheBuster) {\r\n",
       "                let paths = {};\r\n",
       "                paths[extensionName] = `${root}extensions/${extensionName}/resources/`;\r\n",
       "                \r\n",
       "                let internalRequire = require.config({\r\n",
       "                    context: extensionCacheBuster,\r\n",
       "                    paths: paths,\r\n",
       "                    urlArgs: `cacheBuster=${extensionCacheBuster}`\r\n",
       "                    }) || require;\r\n",
       "\r\n",
       "                return internalRequire\r\n",
       "            };\r\n",
       "        \r\n",
       "            dotnetInteractiveRequire([\r\n",
       "                    'dotnet-interactive/dotnet-interactive'\r\n",
       "                ],\r\n",
       "                function (dotnet) {\r\n",
       "                    dotnet.init(window);\r\n",
       "                },\r\n",
       "                function (error) {\r\n",
       "                    console.log(error);\r\n",
       "                }\r\n",
       "            );\r\n",
       "        })\r\n",
       "        .catch(error => {console.log(error);});\r\n",
       "    }\r\n",
       "\r\n",
       "// ensure `require` is available globally\r\n",
       "if ((typeof(require) !==  typeof(Function)) || (typeof(require.config) !== typeof(Function))) {\r\n",
       "    let require_script = document.createElement('script');\r\n",
       "    require_script.setAttribute('src', 'https://cdnjs.cloudflare.com/ajax/libs/require.js/2.3.6/require.min.js');\r\n",
       "    require_script.setAttribute('type', 'text/javascript');\r\n",
       "    \r\n",
       "    \r\n",
       "    require_script.onload = function() {\r\n",
       "        loadDotnetInteractiveApi();\r\n",
       "    };\r\n",
       "\r\n",
       "    document.getElementsByTagName('head')[0].appendChild(require_script);\r\n",
       "}\r\n",
       "else {\r\n",
       "    loadDotnetInteractiveApi();\r\n",
       "}\r\n",
       "\r\n",
       "    </script>\r\n",
       "</div>"
      ]
     },
     "metadata": {},
     "output_type": "display_data"
    },
    {
     "data": {
      "text/html": [
       "<div><div></div><div></div><div><strong>Installed Packages</strong><ul><li><span>Microsoft.Extensions.Configuration.Json, 7.0.0</span></li><li><span>Microsoft.Extensions.Configuration.UserSecrets, 7.0.0</span></li><li><span>Microsoft.Extensions.Logging.Console, 7.0.0</span></li><li><span>Microsoft.Extensions.Logging.Debug, 7.0.0</span></li><li><span>Microsoft.SemanticKernel, 0.24.230918.1-preview</span></li><li><span>System.CommandLine, 2.0.0-beta4.22272.1</span></li><li><span>YamlDotNet, 13.5.2</span></li></ul></div></div>"
      ]
     },
     "metadata": {},
     "output_type": "display_data"
    }
   ],
   "source": [
    "#r \"nuget: Microsoft.Extensions.Configuration.Json,7.0.0\"\n",
    "#r \"nuget: Microsoft.Extensions.Configuration.UserSecrets,7.0.0\"\n",
    "#r \"nuget: Microsoft.Extensions.Logging.Console,7.0.0\"\n",
    "#r \"nuget: Microsoft.Extensions.Logging.Debug,7.0.0\"\n",
    "#r \"nuget: Microsoft.SemanticKernel,0.24.230918.1-preview\"\n",
    "#r \"nuget: System.CommandLine,2.0.0-beta4.22272.1\"\n",
    "#r \"nuget: YamlDotNet,13.5.2\""
   ]
  },
  {
   "cell_type": "code",
   "execution_count": 17,
   "id": "d7658154",
   "metadata": {},
   "outputs": [],
   "source": [
    "using System;\n",
    "using System.IO;\n",
    "using System.Collections.Immutable;\n",
    "using System.CommandLine;\n",
    "using System.Text.RegularExpressions;\n",
    "using Microsoft.Extensions.Configuration;\n",
    "using Microsoft.Extensions.Logging;\n",
    "using Microsoft.SemanticKernel;\n",
    "using Microsoft.SemanticKernel.Events;\n",
    "using Microsoft.SemanticKernel.Orchestration;\n",
    "using Microsoft.SemanticKernel.Planning;\n",
    "using Microsoft.SemanticKernel.SemanticFunctions;\n",
    "using static Microsoft.SemanticKernel.SemanticFunctions.PromptTemplateConfig;"
   ]
  },
  {
   "cell_type": "code",
   "execution_count": 18,
   "id": "2e619c9a",
   "metadata": {},
   "outputs": [],
   "source": [
    "var notebookDir = Environment.CurrentDirectory;\n",
    "var parentDir = Directory.GetParent(notebookDir).FullName;\n",
    "\n",
    "var builder = new ConfigurationBuilder()\n",
    "    .SetBasePath(parentDir)  // Set the base path\n",
    "    .AddJsonFile(\"config/appsettings.json\", optional: false, reloadOnChange: true)  // Load the main appsettings.json file\n",
    "    .AddJsonFile(\"appsettings.plugins.json\", optional: true, reloadOnChange: true);  // Load the environment-specific appsettings file\n",
    "\n",
    "var conf = builder.Build();"
   ]
  },
  {
   "cell_type": "code",
   "execution_count": 19,
   "id": "9563a95f",
   "metadata": {},
   "outputs": [],
   "source": [
    "ILoggerFactory loggerFactory = LoggerFactory.Create(builder =>\n",
    "{\n",
    "  builder.SetMinimumLevel(LogLevel.Warning)\n",
    "          .AddConsole()\n",
    "          .AddDebug();\n",
    "});"
   ]
  },
  {
   "cell_type": "code",
   "execution_count": 20,
   "id": "ddeff2c7",
   "metadata": {},
   "outputs": [
    {
     "name": "stderr",
     "output_type": "stream",
     "text": [
      "\r\n",
      "warning CS1701: Assuming assembly reference 'Microsoft.Extensions.Logging.Abstractions, Version=6.0.0.0, Culture=neutral, PublicKeyToken=adb9793829ddae60' used by 'Microsoft.SemanticKernel.Core' matches identity 'Microsoft.Extensions.Logging.Abstractions, Version=7.0.0.0, Culture=neutral, PublicKeyToken=adb9793829ddae60' of 'Microsoft.Extensions.Logging.Abstractions', you may need to supply runtime policy\r\n",
      "\r\n"
     ]
    }
   ],
   "source": [
    "var serviceId = conf.GetValue<string>(\"serviceId\");\n",
    "var endpointType = conf.GetValue<string>(\"endpointType\");\n",
    "var serviceType = conf.GetValue<string>(\"serviceType\");\n",
    "var deploymentOrModelId = conf.GetValue<string>(\"deploymentOrModelId\");\n",
    "var apiKey = conf.GetValue<string>(\"apiKey\");\n",
    "var orgId = conf.GetValue<string>(\"orgId\");\n",
    "\n",
    "\n",
    "IKernel kernel = new KernelBuilder()\n",
    "                     .WithLoggerFactory(loggerFactory)\n",
    "                     .WithOpenAITextCompletionService(\n",
    "                            modelId: deploymentOrModelId,\n",
    "                            apiKey: apiKey,\n",
    "                            orgId: orgId,\n",
    "                            serviceId: serviceId)\n",
    "                    .Build();"
   ]
  },
  {
   "cell_type": "code",
   "execution_count": 21,
   "id": "4c58eacc",
   "metadata": {},
   "outputs": [],
   "source": [
    "var rootDirectory = conf.GetSection(\"SkillSettings:Root\").Get<string>();\n",
    "var pluginDirectories = conf.GetSection(\"SkillSettings:Plugins\").Get<string[]>();\n",
    "\n",
    "var pluginsRoot = Path.Combine(parentDir, rootDirectory!);\n",
    "var pluginImport = kernel.ImportSemanticSkillFromDirectory(pluginsRoot, pluginDirectories!);"
   ]
  },
  {
   "cell_type": "code",
   "execution_count": 22,
   "id": "60957381",
   "metadata": {},
   "outputs": [
    {
     "name": "stdout",
     "output_type": "stream",
     "text": [
      "\n",
      "FILE: secret.yaml\n",
      "#----#\n",
      "apiVersion: v1\n",
      "kind: Secret\n",
      "metadata:\n",
      "  name: mysecret\n",
      "type: Opaque\n",
      "data:\n",
      "  username: dXNlcg==\n",
      "  password: cGFzc3dvcmQ=\n",
      "#----#\r\n"
     ]
    }
   ],
   "source": [
    "string description = \"create a kubernetes secret YAML for user/password\";\n",
    "var context = new ContextVariables();\n",
    "\n",
    "string key = \"input\";\n",
    "context.Set(key, description);\n",
    "\n",
    "var result = await kernel.RunAsync(context, pluginImport[\"Kubernetes\"]);\n",
    "Console.WriteLine(result);"
   ]
  },
  {
   "cell_type": "code",
   "execution_count": null,
   "id": "6442c507",
   "metadata": {},
   "outputs": [],
   "source": []
  }
 ],
 "metadata": {
  "kernelspec": {
   "display_name": ".NET (C#)",
   "language": "C#",
   "name": ".net-csharp"
  },
  "language_info": {
   "file_extension": ".cs",
   "mimetype": "text/x-csharp",
   "name": "C#",
   "pygments_lexer": "csharp",
   "version": "11.0"
  }
 },
 "nbformat": 4,
 "nbformat_minor": 5
}
