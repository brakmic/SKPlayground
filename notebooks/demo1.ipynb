{
 "cells": [
  {
   "cell_type": "code",
   "execution_count": 1,
   "id": "98599b25",
   "metadata": {
    "dotnet_interactive": {
     "language": "csharp"
    },
    "polyglot_notebook": {
     "kernelName": "csharp"
    },
    "vscode": {
     "languageId": "polyglot-notebook"
    }
   },
   "outputs": [
    {
     "data": {
      "text/html": [
       "<div><div></div><div></div><div><strong>Installed Packages</strong><ul><li><span>Microsoft.Extensions.Configuration.Json, 7.0.0</span></li><li><span>Microsoft.Extensions.Configuration.UserSecrets, 7.0.0</span></li><li><span>Microsoft.Extensions.Logging.Console, 7.0.0</span></li><li><span>Microsoft.Extensions.Logging.Debug, 7.0.0</span></li><li><span>Microsoft.SemanticKernel, 0.24.230918.1-preview</span></li><li><span>System.CommandLine, 2.0.0-beta4.22272.1</span></li><li><span>YamlDotNet, 13.5.2</span></li></ul></div></div>"
      ]
     },
     "metadata": {},
     "output_type": "display_data"
    }
   ],
   "source": [
    "#r \"nuget: Microsoft.Extensions.Configuration.Json,7.0.0\"\n",
    "#r \"nuget: Microsoft.Extensions.Configuration.UserSecrets,7.0.0\"\n",
    "#r \"nuget: Microsoft.Extensions.Logging.Console,7.0.0\"\n",
    "#r \"nuget: Microsoft.Extensions.Logging.Debug,7.0.0\"\n",
    "#r \"nuget: Microsoft.SemanticKernel,0.24.230918.1-preview\"\n",
    "#r \"nuget: System.CommandLine,2.0.0-beta4.22272.1\"\n",
    "#r \"nuget: YamlDotNet,13.5.2\""
   ]
  },
  {
   "cell_type": "code",
   "execution_count": 2,
   "id": "f25346a7",
   "metadata": {
    "dotnet_interactive": {
     "language": "csharp"
    },
    "polyglot_notebook": {
     "kernelName": "csharp"
    },
    "vscode": {
     "languageId": "polyglot-notebook"
    }
   },
   "outputs": [],
   "source": [
    "using System;\n",
    "using System.IO;\n",
    "using System.Collections.Immutable;\n",
    "using System.CommandLine;\n",
    "using System.Text.RegularExpressions;\n",
    "using Microsoft.Extensions.Configuration;\n",
    "using Microsoft.Extensions.Logging;\n",
    "using Microsoft.SemanticKernel;\n",
    "using Microsoft.SemanticKernel.Events;\n",
    "using Microsoft.SemanticKernel.Orchestration;\n",
    "using Microsoft.SemanticKernel.Planning;\n",
    "using Microsoft.SemanticKernel.SemanticFunctions;\n",
    "using static Microsoft.SemanticKernel.SemanticFunctions.PromptTemplateConfig;"
   ]
  },
  {
   "cell_type": "code",
   "execution_count": 3,
   "id": "136b8b0c",
   "metadata": {
    "dotnet_interactive": {
     "language": "csharp"
    },
    "polyglot_notebook": {
     "kernelName": "csharp"
    },
    "vscode": {
     "languageId": "polyglot-notebook"
    }
   },
   "outputs": [],
   "source": [
    "var notebookDir = Environment.CurrentDirectory;\n",
    "var parentDir = Directory.GetParent(notebookDir).FullName;\n",
    "\n",
    "var builder = new ConfigurationBuilder()\n",
    "    .SetBasePath(parentDir)  // Set the base path\n",
    "    .AddJsonFile(\"config/appsettings.json\", optional: false, reloadOnChange: true)  // Load the main appsettings.json file\n",
    "    .AddJsonFile(\"appsettings.plugins.json\", optional: true, reloadOnChange: true);  // Load the environment-specific appsettings file\n",
    "\n",
    "var conf = builder.Build();"
   ]
  },
  {
   "cell_type": "code",
   "execution_count": 4,
   "id": "8a47e5f1",
   "metadata": {
    "dotnet_interactive": {
     "language": "csharp"
    },
    "polyglot_notebook": {
     "kernelName": "csharp"
    },
    "vscode": {
     "languageId": "polyglot-notebook"
    }
   },
   "outputs": [],
   "source": [
    "ILoggerFactory loggerFactory = LoggerFactory.Create(builder =>\n",
    "{\n",
    "  builder.SetMinimumLevel(LogLevel.Warning)\n",
    "          .AddConsole()\n",
    "          .AddDebug();\n",
    "});"
   ]
  },
  {
   "cell_type": "code",
   "execution_count": 5,
   "id": "ac48c00a",
   "metadata": {
    "dotnet_interactive": {
     "language": "csharp"
    },
    "polyglot_notebook": {
     "kernelName": "csharp"
    },
    "vscode": {
     "languageId": "polyglot-notebook"
    }
   },
   "outputs": [],
   "source": [
    "var serviceId = conf.GetValue<string>(\"serviceId\");\n",
    "var endpointType = conf.GetValue<string>(\"endpointType\");\n",
    "var serviceType = conf.GetValue<string>(\"serviceType\");\n",
    "var deploymentOrModelId = conf.GetValue<string>(\"deploymentOrModelId\");\n",
    "var apiKey = conf.GetValue<string>(\"apiKey\");\n",
    "var orgId = conf.GetValue<string>(\"orgId\");\n",
    "\n",
    "\n",
    "IKernel kernel = new KernelBuilder()\n",
    "                     .WithLoggerFactory(loggerFactory)\n",
    "                     .WithOpenAITextCompletionService(\n",
    "                            modelId: deploymentOrModelId,\n",
    "                            apiKey: apiKey,\n",
    "                            orgId: orgId,\n",
    "                            serviceId: serviceId)\n",
    "                    .Build();"
   ]
  },
  {
   "cell_type": "code",
   "execution_count": 6,
   "id": "796e3b83",
   "metadata": {
    "dotnet_interactive": {
     "language": "csharp"
    },
    "polyglot_notebook": {
     "kernelName": "csharp"
    },
    "vscode": {
     "languageId": "polyglot-notebook"
    }
   },
   "outputs": [],
   "source": [
    "var rootDirectory = conf.GetSection(\"SkillSettings:Root\").Get<string>();\n",
    "var pluginDirectories = conf.GetSection(\"SkillSettings:Plugins\").Get<string[]>();\n",
    "\n",
    "var pluginsRoot = Path.Combine(parentDir, rootDirectory!);\n",
    "var pluginImport = kernel.ImportSemanticSkillFromDirectory(pluginsRoot, pluginDirectories!);"
   ]
  },
  {
   "cell_type": "code",
   "execution_count": 7,
   "id": "fc51775e",
   "metadata": {
    "dotnet_interactive": {
     "language": "csharp"
    },
    "polyglot_notebook": {
     "kernelName": "csharp"
    },
    "vscode": {
     "languageId": "polyglot-notebook"
    }
   },
   "outputs": [
    {
     "name": "stdout",
     "output_type": "stream",
     "text": [
      "\n",
      "FILE: secret.yaml\n",
      "#----#\n",
      "apiVersion: v1\n",
      "kind: Secret\n",
      "metadata:\n",
      "  name: mysecret\n",
      "type: Opaque\n",
      "data:\n",
      "  username: dXNlcg==\n",
      "  password: cGFzc3dvcmQ=\n",
      "#----#\r\n"
     ]
    }
   ],
   "source": [
    "string description = \"create a kubernetes secret YAML for user/password\";\n",
    "var context = new ContextVariables();\n",
    "\n",
    "string key = \"input\";\n",
    "context.Set(key, description);\n",
    "\n",
    "var result = await kernel.RunAsync(context, pluginImport[\"Kubernetes\"]);\n",
    "Console.WriteLine(result);"
   ]
  },
  {
   "cell_type": "code",
   "execution_count": null,
   "metadata": {
    "dotnet_interactive": {
     "language": "csharp"
    },
    "polyglot_notebook": {
     "kernelName": "csharp"
    },
    "vscode": {
     "languageId": "polyglot-notebook"
    }
   },
   "outputs": [],
   "source": []
  }
 ],
 "metadata": {
  "kernelspec": {
   "display_name": ".NET (C#)",
   "language": "C#",
   "name": ".net-csharp"
  },
  "language_info": {
   "file_extension": ".cs",
   "mimetype": "text/x-csharp",
   "name": "C#",
   "pygments_lexer": "csharp",
   "version": "11.0"
  }
 },
 "nbformat": 4,
 "nbformat_minor": 5
}
