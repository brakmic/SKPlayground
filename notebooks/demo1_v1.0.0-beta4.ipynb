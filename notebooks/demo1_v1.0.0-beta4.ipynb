{
 "cells": [
  {
   "cell_type": "code",
   "execution_count": 1,
   "metadata": {
    "dotnet_interactive": {
     "language": "csharp"
    },
    "polyglot_notebook": {
     "kernelName": "csharp"
    },
    "vscode": {
     "languageId": "polyglot-notebook"
    }
   },
   "outputs": [
    {
     "data": {
      "text/html": [
       "<div><div></div><div></div><div><strong>Installed Packages</strong><ul><li><span>Microsoft.Extensions.Configuration.Json, 7.0.0</span></li><li><span>Microsoft.Extensions.Configuration.UserSecrets, 7.0.0</span></li><li><span>Microsoft.Extensions.Logging.Console, 7.0.0</span></li><li><span>Microsoft.Extensions.Logging.Debug, 7.0.0</span></li><li><span>Microsoft.SemanticKernel.Abstractions, 1.0.0-beta4</span></li><li><span>Microsoft.SemanticKernel.Connectors.AI.HuggingFace, 1.0.0-beta4</span></li><li><span>Microsoft.SemanticKernel.Connectors.AI.OpenAI, 1.0.0-beta4</span></li><li><span>Microsoft.SemanticKernel.Connectors.Memory.Postgres, 1.0.0-beta4</span></li><li><span>Microsoft.SemanticKernel.Connectors.Memory.Sqlite, 1.0.0-beta4</span></li><li><span>Microsoft.SemanticKernel.Connectors.Memory.Weaviate, 1.0.0-beta4</span></li><li><span>Microsoft.SemanticKernel.Core, 1.0.0-beta4</span></li><li><span>Microsoft.SemanticKernel.Functions.Grpc, 1.0.0-beta4</span></li><li><span>Microsoft.SemanticKernel.Functions.OpenAPI, 1.0.0-beta4</span></li><li><span>Microsoft.SemanticKernel.Planners.Core, 1.0.0-beta4</span></li><li><span>Microsoft.SemanticKernel.Plugins.Core, 1.0.0-beta4</span></li><li><span>Microsoft.SemanticKernel.Plugins.Document, 1.0.0-beta4</span></li><li><span>Microsoft.SemanticKernel.Plugins.Memory, 1.0.0-beta4</span></li><li><span>Microsoft.SemanticKernel.Plugins.Web, 1.0.0-beta4</span></li><li><span>Microsoft.SemanticKernel.TemplateEngine.Basic, 1.0.0-beta4</span></li><li><span>System.CommandLine, 2.0.0-beta4.22272.1</span></li><li><span>YamlDotNet, 13.5.2</span></li></ul></div></div>"
      ]
     },
     "metadata": {},
     "output_type": "display_data"
    }
   ],
   "source": [
    "#r \"nuget: Microsoft.Extensions.Configuration.Json,7.0.0\"\n",
    "#r \"nuget: Microsoft.Extensions.Configuration.UserSecrets,7.0.0\"\n",
    "#r \"nuget: Microsoft.Extensions.Logging.Console,7.0.0\"\n",
    "#r \"nuget: Microsoft.Extensions.Logging.Debug,7.0.0\"\n",
    "#r \"nuget: Microsoft.SemanticKernel.Core, 1.0.0-beta4\"\n",
    "#r \"nuget: Microsoft.SemanticKernel.Abstractions, 1.0.0-beta4\"\n",
    "#r \"nuget: Microsoft.SemanticKernel.Connectors.AI.OpenAI, 1.0.0-beta4\"\n",
    "#r \"nuget: Microsoft.SemanticKernel.Connectors.AI.HuggingFace, 1.0.0-beta4\"\n",
    "#r \"nuget: Microsoft.SemanticKernel.Connectors.Memory.Postgres, 1.0.0-beta4\"\n",
    "#r \"nuget: Microsoft.SemanticKernel.Connectors.Memory.Sqlite, 1.0.0-beta4\"\n",
    "#r \"nuget: Microsoft.SemanticKernel.Connectors.Memory.Weaviate, 1.0.0-beta4\"\n",
    "#r \"nuget: Microsoft.SemanticKernel.Functions.Grpc, 1.0.0-beta4\"\n",
    "#r \"nuget: Microsoft.SemanticKernel.Functions.OpenAPI, 1.0.0-beta4\"\n",
    "#r \"nuget: Microsoft.SemanticKernel.Plugins.Core, 1.0.0-beta4\"\n",
    "#r \"nuget: Microsoft.SemanticKernel.Plugins.Memory, 1.0.0-beta4\"\n",
    "#r \"nuget: Microsoft.SemanticKernel.Plugins.Document, 1.0.0-beta4\"\n",
    "#r \"nuget: Microsoft.SemanticKernel.Planners.Core, 1.0.0-beta4\"\n",
    "#r \"nuget: Microsoft.SemanticKernel.Plugins.Web, 1.0.0-beta4\"\n",
    "#r \"nuget: Microsoft.SemanticKernel.TemplateEngine.Basic, 1.0.0-beta4\"\n",
    "#r \"nuget: System.CommandLine,2.0.0-beta4.22272.1\"\n",
    "#r \"nuget: YamlDotNet,13.5.2\""
   ]
  },
  {
   "cell_type": "code",
   "execution_count": 4,
   "metadata": {
    "dotnet_interactive": {
     "language": "csharp"
    },
    "polyglot_notebook": {
     "kernelName": "csharp"
    },
    "vscode": {
     "languageId": "polyglot-notebook"
    }
   },
   "outputs": [],
   "source": [
    "using System;\n",
    "using System.IO;\n",
    "using System.CommandLine;\n",
    "using System.Collections.Immutable;\n",
    "using System.Text.RegularExpressions;\n",
    "using Microsoft.Extensions.Configuration;\n",
    "using Microsoft.Extensions.Logging;\n",
    "using Microsoft.SemanticKernel;\n",
    "using Microsoft.SemanticKernel.Orchestration;\n",
    "using Microsoft.SemanticKernel.AI.TextCompletion;\n",
    "using Microsoft.SemanticKernel.Connectors.AI.OpenAI.TextEmbedding;\n",
    "using Microsoft.SemanticKernel.Functions.OpenAPI;\n",
    "using Microsoft.SemanticKernel.Memory;\n",
    "using Microsoft.SemanticKernel.Plugins.Core;\n",
    "using Microsoft.SemanticKernel.Plugins.Memory;\n",
    "using Microsoft.SemanticKernel.TemplateEngine.Basic;"
   ]
  },
  {
   "cell_type": "code",
   "execution_count": 5,
   "metadata": {
    "dotnet_interactive": {
     "language": "csharp"
    },
    "polyglot_notebook": {
     "kernelName": "csharp"
    },
    "vscode": {
     "languageId": "polyglot-notebook"
    }
   },
   "outputs": [],
   "source": [
    "var notebookDir = Environment.CurrentDirectory;\n",
    "var parentDir = Directory.GetParent(notebookDir).FullName;\n",
    "\n",
    "var builder = new ConfigurationBuilder()\n",
    "    .SetBasePath(parentDir)  // Set the base path\n",
    "    .AddJsonFile(\"config/appsettings.json\", optional: false, reloadOnChange: true)  // Load the main appsettings.json file\n",
    "    .AddJsonFile(\"appsettings.plugins.json\", optional: true, reloadOnChange: true);  // Load the environment-specific appsettings file\n",
    "\n",
    "var conf = builder.Build();"
   ]
  },
  {
   "cell_type": "code",
   "execution_count": 6,
   "metadata": {
    "dotnet_interactive": {
     "language": "csharp"
    },
    "polyglot_notebook": {
     "kernelName": "csharp"
    },
    "vscode": {
     "languageId": "polyglot-notebook"
    }
   },
   "outputs": [],
   "source": [
    "ILoggerFactory loggerFactory = LoggerFactory.Create(builder =>\n",
    "{\n",
    "  builder.SetMinimumLevel(LogLevel.Warning)\n",
    "          .AddConsole()\n",
    "          .AddDebug();\n",
    "});"
   ]
  },
  {
   "cell_type": "code",
   "execution_count": 7,
   "metadata": {
    "dotnet_interactive": {
     "language": "csharp"
    },
    "polyglot_notebook": {
     "kernelName": "csharp"
    },
    "vscode": {
     "languageId": "polyglot-notebook"
    }
   },
   "outputs": [],
   "source": [
    "var serviceId = conf.GetValue<string>(\"serviceId\");\n",
    "var endpointType = conf.GetValue<string>(\"endpointType\");\n",
    "var serviceType = conf.GetValue<string>(\"serviceType\");\n",
    "var deploymentOrModelId = conf.GetValue<string>(\"deploymentOrModelId\");\n",
    "var apiKey = conf.GetValue<string>(\"apiKey\");\n",
    "var orgId = conf.GetValue<string>(\"orgId\");\n",
    "\n",
    "// Taken from: https://github.com/microsoft/semantic-kernel/blob/main/dotnet/samples/KernelSyntaxExamples/Example42_KernelBuilder.cs\n",
    "//\n",
    "// Kernel.Builder returns a new builder instance, in case you want to configure the builder differently.\n",
    "// ==========================================================================================================\n",
    "// Kernel instances can be created the usual way with \"new\", though the process requires particular\n",
    "// attention to how dependencies are wired together. Although the building blocks are available\n",
    "// to enable custom configurations, we highly recommend using KernelBuilder instead, to ensure\n",
    "// a correct dependency injection.\n",
    "// ----------------------------------------------------------------------------------------------------------\n",
    "IKernel kernel = Kernel.Builder\n",
    "                     .WithLoggerFactory(loggerFactory)\n",
    "                     .WithOpenAITextCompletionService(\n",
    "                            modelId: deploymentOrModelId,\n",
    "                            apiKey: apiKey,\n",
    "                            orgId: orgId,\n",
    "                            serviceId: serviceId)\n",
    "                    .Build();"
   ]
  },
  {
   "cell_type": "code",
   "execution_count": 8,
   "metadata": {
    "dotnet_interactive": {
     "language": "csharp"
    },
    "polyglot_notebook": {
     "kernelName": "csharp"
    },
    "vscode": {
     "languageId": "polyglot-notebook"
    }
   },
   "outputs": [],
   "source": [
    "var rootDirectory = conf.GetSection(\"PluginSettings:Root\").Get<string>();\n",
    "var pluginDirectories = conf.GetSection(\"PluginSettings:Plugins\").Get<string[]>();\n",
    "\n",
    "var pluginsRoot = Path.Combine(parentDir, rootDirectory!);\n",
    "var pluginImport = kernel.ImportSemanticFunctionsFromDirectory(pluginsRoot, pluginDirectories!);"
   ]
  },
  {
   "cell_type": "code",
   "execution_count": 9,
   "metadata": {
    "dotnet_interactive": {
     "language": "csharp"
    },
    "polyglot_notebook": {
     "kernelName": "csharp"
    },
    "vscode": {
     "languageId": "polyglot-notebook"
    }
   },
   "outputs": [
    {
     "name": "stdout",
     "output_type": "stream",
     "text": [
      "+---------------+----------------------------------------------------+\n",
      "|Plugin         |Description                                         |\n",
      "+---------------+----------------------------------------------------+\n",
      "|Chat           |Answer user questions                               |\n",
      "|Helm           |Create Helm Charts for given devops task            |\n",
      "|Kubernetes     |Create kubernetes YAML files for given devops task  |\n",
      "|CSharp         |Create .NET projects for given task                 |\n",
      "|TypeScript     |Create TypeScript source codes for given task       |\n",
      "|CreateHtmlDoc  |Create HTML documents                               |\n",
      "|ExtractJS      |Extract JavaScript from an HTML document            |\n",
      "|UrlFinder      |Find the URL of a web page                          |\n",
      "+---------------+----------------------------------------------------+\n"
     ]
    }
   ],
   "source": [
    "int nameMaxLength = pluginImport.Max(p => p.Value.Name.Length) + 2;  // +2 for padding\n",
    "int descMaxLength = pluginImport.Max(p => p.Value.Description.Length) + 2;\n",
    "\n",
    "// Header\n",
    "Console.WriteLine($\"+{new string('-', nameMaxLength)}+{new string('-', descMaxLength)}+\");\n",
    "Console.WriteLine($\"|{\"Plugin\".PadRight(nameMaxLength)}|{\"Description\".PadRight(descMaxLength)}|\");\n",
    "Console.WriteLine($\"+{new string('-', nameMaxLength)}+{new string('-', descMaxLength)}+\");\n",
    "\n",
    "// Rows\n",
    "foreach (var p in pluginImport)\n",
    "{\n",
    "    Console.WriteLine($\"|{p.Value.Name.PadRight(nameMaxLength)}|{p.Value.Description.PadRight(descMaxLength)}|\");\n",
    "}\n",
    "\n",
    "// Footer\n",
    "Console.WriteLine($\"+{new string('-', nameMaxLength)}+{new string('-', descMaxLength)}+\");\n"
   ]
  },
  {
   "cell_type": "code",
   "execution_count": 10,
   "metadata": {
    "dotnet_interactive": {
     "language": "csharp"
    },
    "polyglot_notebook": {
     "kernelName": "csharp"
    },
    "vscode": {
     "languageId": "polyglot-notebook"
    }
   },
   "outputs": [
    {
     "name": "stdout",
     "output_type": "stream",
     "text": [
      "\n",
      "FILE: secret.yaml\n",
      "#----#\n",
      "apiVersion: v1\n",
      "kind: Secret\n",
      "metadata:\n",
      "  name: my-secret\n",
      "type: Opaque\n",
      "data:\n",
      "  username: dXNlcg==\n",
      "  password: cGFzc3dvcmQ=\n",
      "#----#\r\n"
     ]
    }
   ],
   "source": [
    "string description = \"create a kubernetes secret YAML for user/password\";\n",
    "var context = new ContextVariables();\n",
    "\n",
    "string key = \"input\";\n",
    "context.Set(key, description);\n",
    "\n",
    "var result = await kernel.RunAsync(context, pluginImport[\"Kubernetes\"]);\n",
    "Console.WriteLine(result.GetValue<string>());"
   ]
  },
  {
   "cell_type": "code",
   "execution_count": null,
   "metadata": {
    "dotnet_interactive": {
     "language": "csharp"
    },
    "polyglot_notebook": {
     "kernelName": "csharp"
    },
    "vscode": {
     "languageId": "polyglot-notebook"
    }
   },
   "outputs": [],
   "source": []
  }
 ],
 "metadata": {
  "language_info": {
   "name": "python"
  },
  "orig_nbformat": 4
 },
 "nbformat": 4,
 "nbformat_minor": 2
}
